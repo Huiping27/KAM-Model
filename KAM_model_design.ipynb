{
 "cells": [
  {
   "cell_type": "markdown",
   "id": "3ef12f1a-cf5a-4625-b907-44caabf01f3d",
   "metadata": {},
   "source": [
    "## Design KAM(Key Account Relathionship Management Model)"
   ]
  },
  {
   "cell_type": "markdown",
   "id": "fd00636d-4230-41f9-a821-ffa6bebcb5c2",
   "metadata": {},
   "source": [
    "####  Create a class to represent a key account and implement methods to assess account needs, track performance, and identify business opportunities."
   ]
  },
  {
   "cell_type": "code",
   "execution_count": 1,
   "id": "c4ed1902-102b-47dc-be23-9a02637b381e",
   "metadata": {},
   "outputs": [],
   "source": [
    "class KeyAccount:\n",
    "    def __init__(self, name, industry, revenue, current_needs):\n",
    "        self.name = name\n",
    "        self.industry = industry\n",
    "        self.revenue = revenue\n",
    "        self.current_needs = current_needs\n",
    "        self.performance_metrics = {\n",
    "            'customer_satisfaction': 0,\n",
    "            'revenue_growth': 0,\n",
    "            'market_share': 0\n",
    "        }\n",
    "    \n",
    "    def assess_needs(self):\n",
    "        print(f\"Assessing needs of key account: {self.name}\")\n",
    "        # Simulate needs assessment process\n",
    "        # For demonstration, let's just print the current needs\n",
    "        print(f\"Current needs: {self.current_needs}\")\n",
    "    \n",
    "    def track_performance(self, metrics):\n",
    "        print(f\"Tracking performance of key account: {self.name}\")\n",
    "        # Update performance metrics based on input\n",
    "        for metric, value in metrics.items():\n",
    "            self.performance_metrics[metric] += value\n",
    "        print(\"Performance metrics updated successfully.\")\n",
    "    \n",
    "    def identify_opportunities(self):\n",
    "        print(f\"Identifying business opportunities for key account: {self.name}\")\n",
    "        # Simulate opportunity identification process\n",
    "        # For demonstration, let's just print a generic message\n",
    "        print(\"New business opportunities identified.\")\n"
   ]
  },
  {
   "cell_type": "code",
   "execution_count": null,
   "id": "3ee2d402-e63f-4e8e-8476-2568b4b8c321",
   "metadata": {},
   "outputs": [],
   "source": []
  },
  {
   "cell_type": "markdown",
   "id": "71828007-0821-42c2-85e9-7fa26b5d3ca5",
   "metadata": {},
   "source": [
    "### Create an instance of the KeyAccount class"
   ]
  },
  {
   "cell_type": "markdown",
   "id": "5b8b28b0-5e91-4845-be57-2a90a2c1e52a",
   "metadata": {},
   "source": [
    "#### Implement Business Logic"
   ]
  },
  {
   "cell_type": "code",
   "execution_count": 7,
   "id": "373d7a22-2969-47f1-8048-7512b50f6e41",
   "metadata": {},
   "outputs": [
    {
     "name": "stdout",
     "output_type": "stream",
     "text": [
      "Assessing needs of key account: LOOP Corp\n",
      "Current needs: ['Loop Pack', 'Loop Lable']\n",
      "Tracking performance of key account: LOOP Corp\n",
      "Performance metrics updated successfully.\n",
      "Identifying business opportunities for key account: LOOP Corp\n",
      "New business opportunities identified.\n"
     ]
    }
   ],
   "source": [
    "# Create a key account instance\n",
    "key_account = KeyAccount(\n",
    "    name='LOOP Corp',\n",
    "    industry='Technology',\n",
    "    revenue=1000000,\n",
    "    current_needs=['Loop Pack', 'Loop Lable']\n",
    ")\n",
    "\n",
    "# Perform needs assessment\n",
    "key_account.assess_needs()\n",
    "\n",
    "# Track performance\n",
    "performance_metrics_update = {\n",
    "    'customer_satisfaction': 10,\n",
    "    'revenue_growth': 50000,\n",
    "    'market_share': 0.05\n",
    "}\n",
    "key_account.track_performance(performance_metrics_update)\n",
    "\n",
    "# Identify opportunities\n",
    "key_account.identify_opportunities()\n"
   ]
  },
  {
   "cell_type": "code",
   "execution_count": null,
   "id": "6ef842f4-8320-4374-a753-228dea3e2fc8",
   "metadata": {},
   "outputs": [],
   "source": []
  }
 ],
 "metadata": {
  "kernelspec": {
   "display_name": "Python 3 (ipykernel)",
   "language": "python",
   "name": "python3"
  },
  "language_info": {
   "codemirror_mode": {
    "name": "ipython",
    "version": 3
   },
   "file_extension": ".py",
   "mimetype": "text/x-python",
   "name": "python",
   "nbconvert_exporter": "python",
   "pygments_lexer": "ipython3",
   "version": "3.11.7"
  }
 },
 "nbformat": 4,
 "nbformat_minor": 5
}
